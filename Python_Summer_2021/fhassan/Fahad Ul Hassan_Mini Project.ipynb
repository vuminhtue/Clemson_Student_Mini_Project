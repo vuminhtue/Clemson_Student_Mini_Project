{
 "cells": [
  {
   "cell_type": "code",
   "execution_count": 1,
   "metadata": {},
   "outputs": [
    {
     "name": "stderr",
     "output_type": "stream",
     "text": [
      "Using TensorFlow backend.\n"
     ]
    }
   ],
   "source": [
    "################################### CITI-ACDS Python Boot Camp summer 2021 - MINI PROJECT #################################\n",
    "# Multiclass Classification of construction contract text into 3 categories: Design, COnstruction and O&M\n",
    "# Name: Fahad UL Hassan\n",
    "# CUID: C13169182\n",
    "\n",
    "import base64\n",
    "import string\n",
    "import re\n",
    "import spacy\n",
    "import gensim\n",
    "import logging\n",
    "import nltk\n",
    "import warnings\n",
    "import pandas as pd\n",
    "import numpy as np\n",
    "from tqdm import tqdm\n",
    "import seaborn as sns\n",
    "from numpy import random\n",
    "from itertools import islice\n",
    "from functools import reduce\n",
    "from bs4 import BeautifulSoup\n",
    "import matplotlib.pyplot as plt\n",
    "from collections import Counter\n",
    "from textblob import TextBlob, Word\n",
    "from nltk.corpus import stopwords\n",
    "from nltk.stem import PorterStemmer\n",
    "from gensim.models import Word2Vec, Doc2Vec\n",
    "from gensim.models.doc2vec import TaggedDocument\n",
    "from keras import layers\n",
    "from keras.layers import Dense\n",
    "from keras.utils import np_utils\n",
    "from keras.models import Sequential\n",
    "from keras.wrappers.scikit_learn import KerasClassifier\n",
    "from sklearn import utils\n",
    "from sklearn.pipeline import Pipeline\n",
    "from sklearn.naive_bayes import MultinomialNB\n",
    "from sklearn.preprocessing import LabelEncoder\n",
    "from sklearn.linear_model import SGDClassifier,LogisticRegression\n",
    "from sklearn.model_selection import cross_val_score, KFold, train_test_split\n",
    "from sklearn.metrics import classification_report, accuracy_score, confusion_matrix\n",
    "from sklearn.feature_extraction.text import TfidfVectorizer, CountVectorizer, TfidfTransformer\n",
    "from nltk import pos_tag\n",
    "from sklearn import tree\n",
    "from sklearn import model_selection\n",
    "from sklearn.ensemble import BaggingClassifier\n",
    "from sklearn.tree import DecisionTreeClassifier\n",
    "import matplotlib.pyplot as plt\n",
    "import tensorflow as tf\n",
    "from sklearn.preprocessing import LabelBinarizer, LabelEncoder\n",
    "from sklearn.utils import shuffle\n",
    "from functools import reduce\n",
    "from tensorflow import keras\n",
    "from keras.models import Sequential\n",
    "from keras.layers import Dense, Activation, Dropout\n",
    "from keras.preprocessing import text, sequence\n",
    "from keras import utils\n",
    "#################################################################################################"
   ]
  },
  {
   "cell_type": "code",
   "execution_count": 2,
   "metadata": {},
   "outputs": [],
   "source": [
    "import time\n",
    "start = time.time()\n",
    "\n",
    "np.random.seed(1056)\n",
    "\n",
    "## hide warnings##\n",
    "warnings.filterwarnings('ignore')"
   ]
  },
  {
   "cell_type": "code",
   "execution_count": 6,
   "metadata": {},
   "outputs": [],
   "source": [
    "## reading the csv file\n",
    "Dataset = pd.read_csv('data_miniproject.csv')\n",
    "Types_List = ['O&M','Design','Construction']"
   ]
  },
  {
   "cell_type": "code",
   "execution_count": 7,
   "metadata": {},
   "outputs": [],
   "source": [
    "########################preprocessing#######################\n",
    "\n",
    "#lowerCase\n",
    "def LowerCase(data):\n",
    "    data['Requirement'] = data['Requirement'].apply(lambda x: \" \".join(x.lower() for x in x.split()))\n",
    "    return data"
   ]
  },
  {
   "cell_type": "code",
   "execution_count": 8,
   "metadata": {},
   "outputs": [],
   "source": [
    "#remove punctuation\n",
    "def RemovePunctuation (data):\n",
    "    data['Requirement'] = data['Requirement'].str.replace('[^\\w\\s]','')\n",
    "    return data"
   ]
  },
  {
   "cell_type": "code",
   "execution_count": 9,
   "metadata": {},
   "outputs": [],
   "source": [
    "def POSTagging (data):\n",
    "    tagged_data = data['Requirement'].str.split().map(pos_tag)\n",
    "    tagged_data.head()\n",
    "#    print(tagged_data)\n",
    "    return data"
   ]
  },
  {
   "cell_type": "code",
   "execution_count": 7,
   "metadata": {},
   "outputs": [],
   "source": [
    "#remove stopwords\n",
    "def RemoveStopWords (data):\n",
    "    stop = stopwords.words('english')\n",
    "    data['Requirement'] = data['Requirement'].apply(lambda x: \" \".join(x for x in x.split() if x not in stop))\n",
    "    return data"
   ]
  },
  {
   "cell_type": "code",
   "execution_count": 8,
   "metadata": {},
   "outputs": [],
   "source": [
    "def CorrectSpelling (data):\n",
    "    data['Requirement'].apply(lambda x: str(TextBlob(x).correct()))\n",
    "    return data"
   ]
  },
  {
   "cell_type": "code",
   "execution_count": 9,
   "metadata": {},
   "outputs": [],
   "source": [
    "#remove common frequent words\n",
    "def RemoveFrequentWords (data, topFrequentNumber=10):\n",
    "    mask = data.Type.apply(lambda x: 'Design' in x)\n",
    "    FrequentDesign= pd.Series(' '.join(data[mask]['Requirement']).split()).value_counts()[:topFrequentNumber]\n",
    "    mask = data.Type.apply(lambda x: 'O&M' in x)\n",
    "    FrequentOM= pd.Series(' '.join(data[mask]['Requirement']).split()).value_counts()[:topFrequentNumber]\n",
    "    mask = data.Type.apply(lambda x: 'Construction' in x)\n",
    "    FrequentConstruction= pd.Series(' '.join(data[mask]['Requirement']).split()).value_counts()[:topFrequentNumber]\n",
    "    allFrequent=[list(FrequentDesign.index),FrequentOM.index.tolist(),FrequentConstruction.index.tolist()]\n",
    "    commonFrequent=list(reduce(set.intersection, [set(item) for item in allFrequent ]))\n",
    "    data['Requirement'] = data['Requirement'].apply(lambda x: \" \".join(x for x in x.split() if x not in commonFrequent))\n",
    "    return data"
   ]
  },
  {
   "cell_type": "code",
   "execution_count": 10,
   "metadata": {},
   "outputs": [],
   "source": [
    "def RemoveUniqueWords (data):\n",
    "    counts= pd.Series(' '.join(data['Requirement']).split()).value_counts()\n",
    "    to_remove = counts[counts <= 1].index\n",
    "    data['Requirement'] = data['Requirement'].apply(lambda x: \" \".join(x for x in x.split() if x not in to_remove))\n",
    "    return data"
   ]
  },
  {
   "cell_type": "code",
   "execution_count": 11,
   "metadata": {},
   "outputs": [],
   "source": [
    "def AddTokens (data):\n",
    "    data['Tokens'] = data['Requirement'].apply(lambda x: TextBlob(x).words)\n",
    "    return data"
   ]
  },
  {
   "cell_type": "code",
   "execution_count": 12,
   "metadata": {},
   "outputs": [],
   "source": [
    "def Stem(data):\n",
    "    st = PorterStemmer()\n",
    "    data['Requirement'].apply(lambda x: \" \".join([st.stem(word) for word in x.split()]))\n",
    "    return data"
   ]
  },
  {
   "cell_type": "code",
   "execution_count": 13,
   "metadata": {},
   "outputs": [],
   "source": [
    "def Lemmatize(data):\n",
    "    data['Requirement'] = data['Requirement'].apply(lambda x: \" \".join([Word(word).lemmatize() for word in x.split()]))\n",
    "    return data"
   ]
  },
  {
   "cell_type": "code",
   "execution_count": 14,
   "metadata": {},
   "outputs": [],
   "source": [
    "def BalanceData(data,numberofsamples=600):\n",
    "    data=data.groupby('Type').apply(lambda x: x.sample(numberofsamples)).reset_index(drop=True)\n",
    "    return data"
   ]
  },
  {
   "cell_type": "code",
   "execution_count": 15,
   "metadata": {},
   "outputs": [],
   "source": [
    "def GetTFIDF(data,maxNGramRange=1):\n",
    "    tfidf = TfidfVectorizer(max_features=1000, lowercase=True, analyzer='word',\n",
    "    stop_words= 'english',ngram_range=(1,maxNGramRange),sublinear_tf=True)\n",
    "    Dataset_vect = tfidf.fit_transform(Dataset['Requirement'])\n",
    "##    idf = tfidf.idf_\n",
    "##    print(dict(zip(tfidf.get_feature_names(), idf)))\n",
    "    return Dataset_vect"
   ]
  },
  {
   "cell_type": "code",
   "execution_count": 16,
   "metadata": {},
   "outputs": [],
   "source": [
    "def GetBagOfWords(data,maxNGramRange=1):\n",
    "    bow = CountVectorizer(max_features=1000, lowercase=True, ngram_range=(1,maxNGramRange),analyzer = \"word\")\n",
    "    Dataset_bow = bow.fit_transform(data['Requirement'])\n",
    "    return Dataset_bow"
   ]
  },
  {
   "cell_type": "code",
   "execution_count": 17,
   "metadata": {},
   "outputs": [],
   "source": [
    "def RemoveNonAlphabet(data):\n",
    "\tdata['Requirement'] = data['Requirement'].str.replace('[^0-9a-z #+_]','')\n",
    "\treturn data"
   ]
  },
  {
   "cell_type": "code",
   "execution_count": 18,
   "metadata": {},
   "outputs": [],
   "source": [
    "#################################\n",
    "#Dataset=Stem(Dataset)\n",
    "Dataset=Lemmatize(Dataset)\n",
    "Dataset= LowerCase(Dataset)\n",
    "Dataset=RemovePunctuation(Dataset)\n",
    "#Dataset=POSTagging(Dataset)\n",
    "Dataset=RemoveStopWords(Dataset)\n",
    "#Dataset=RemoveFrequentWords(Dataset,50)\n",
    "Dataset=RemoveNonAlphabet(Dataset)\n",
    "#Dataset=RemoveUniqueWords(Dataset)\n",
    "Dataset=AddTokens(Dataset)\n",
    "tfidf= GetTFIDF(Dataset,1)\n",
    "bow= GetBagOfWords(Dataset,2)\n",
    "#Dataset=BalanceData(Dataset,400)\n",
    "#################################\n",
    "#print(Dataset[:10])"
   ]
  },
  {
   "cell_type": "code",
   "execution_count": 19,
   "metadata": {},
   "outputs": [],
   "source": [
    "##################################preprocessing########################################\n",
    "Dataset['Requirement'].apply(lambda x: len(x.split(' '))).sum()\n",
    "\n",
    "X = Dataset.Requirement\n",
    "y = Dataset.Type\n",
    "X_train, X_test, y_train, y_test = train_test_split(X, y, test_size=0.3, random_state = 49)\n",
    "################################# End of preprocessing########################################"
   ]
  },
  {
   "cell_type": "code",
   "execution_count": 20,
   "metadata": {},
   "outputs": [
    {
     "name": "stdout",
     "output_type": "stream",
     "text": [
      "######################## NAIVE BIAS ########################\n",
      "accuracy 0.8697850821744627\n",
      "              precision    recall  f1-score   support\n",
      "\n",
      "         O&M       0.75      0.84      0.80       185\n",
      "      Design       0.88      0.91      0.90       413\n",
      "Construction       0.98      0.81      0.89       193\n",
      "\n",
      "   micro avg       0.87      0.87      0.87       791\n",
      "   macro avg       0.87      0.85      0.86       791\n",
      "weighted avg       0.88      0.87      0.87       791\n",
      "\n",
      "[[156  28   1]\n",
      " [ 36 375   2]\n",
      " [ 15  21 157]]\n",
      "############################################################\n",
      "\n",
      "\n"
     ]
    }
   ],
   "source": [
    "######################## NAIVE BAYESIAN ########################\n",
    "from sklearn.naive_bayes import MultinomialNB\n",
    "\n",
    "nb = Pipeline([('vect', CountVectorizer()),('tfidf', TfidfTransformer()),('clf', MultinomialNB()),])\n",
    "nb.fit(X_train, y_train)\n",
    "y_pred = nb.predict(X_test)\n",
    "\n",
    "print(\"######################## NAIVE BAYESIAN ########################\")\n",
    "print('accuracy %s' % accuracy_score(y_pred, y_test))\n",
    "print(classification_report(y_test, y_pred,target_names=Types_List))\n",
    "print(confusion_matrix(y_test, y_pred))\n",
    "print(\"############################################################\\n\\n\")\n",
    "############################################################"
   ]
  },
  {
   "cell_type": "code",
   "execution_count": 21,
   "metadata": {},
   "outputs": [
    {
     "name": "stdout",
     "output_type": "stream",
     "text": [
      "############### Linear Support Vector Machine ###############\n",
      "accuracy 0.8874841972187105\n",
      "              precision    recall  f1-score   support\n",
      "\n",
      "         O&M       0.79      0.85      0.82       185\n",
      "      Design       0.90      0.92      0.91       413\n",
      "Construction       0.98      0.86      0.92       193\n",
      "\n",
      "   micro avg       0.89      0.89      0.89       791\n",
      "   macro avg       0.89      0.88      0.88       791\n",
      "weighted avg       0.89      0.89      0.89       791\n",
      "\n",
      "[[158  25   2]\n",
      " [ 34 378   1]\n",
      " [  8  19 166]]\n",
      "#############################################################\n",
      "\n",
      "\n"
     ]
    }
   ],
   "source": [
    "############################## Linear Support Vector Machines################################\n",
    "from sklearn.linear_model import SGDClassifier      \n",
    "\n",
    "sgd = Pipeline([('vect', CountVectorizer()),('tfidf', TfidfTransformer()),('clf', SGDClassifier(loss='hinge', penalty='l2',alpha=1e-3, random_state=42, max_iter=5, tol=None)),])\n",
    "sgd.fit(X_train, y_train)\n",
    "y_pred = sgd.predict(X_test)\n",
    "\n",
    "print(\"############### Linear Support Vector Machine ###############\")\n",
    "print('accuracy %s' % accuracy_score(y_pred, y_test))\n",
    "print(classification_report(y_test, y_pred,target_names=Types_List))\n",
    "print(confusion_matrix(y_test, y_pred))\n",
    "print(\"#############################################################\\n\\n\")\n",
    "#############################################################  "
   ]
  },
  {
   "cell_type": "code",
   "execution_count": 22,
   "metadata": {},
   "outputs": [
    {
     "name": "stdout",
     "output_type": "stream",
     "text": [
      "##################### Logistic Regression #####################\n",
      "accuracy 0.8735777496839444\n",
      "              precision    recall  f1-score   support\n",
      "\n",
      "         O&M       0.76      0.79      0.78       185\n",
      "      Design       0.89      0.91      0.90       413\n",
      "Construction       0.96      0.88      0.92       193\n",
      "\n",
      "   micro avg       0.87      0.87      0.87       791\n",
      "   macro avg       0.87      0.86      0.86       791\n",
      "weighted avg       0.88      0.87      0.87       791\n",
      "\n",
      "[[147  33   5]\n",
      " [ 36 375   2]\n",
      " [ 11  13 169]]\n",
      "###############################################################\n",
      "\n",
      "\n"
     ]
    }
   ],
   "source": [
    "####################################LogisticRegression######################################\n",
    "from sklearn.linear_model import SGDClassifier,LogisticRegression\n",
    "\n",
    "logreg = Pipeline([('vect', CountVectorizer()),('tfidf', TfidfTransformer()),('clf', LogisticRegression(n_jobs=1, C=1e5)),])\n",
    "logreg.fit(X_train, y_train)\n",
    "y_pred = logreg.predict(X_test)\n",
    "\n",
    "print(\"##################### Logistic Regression #####################\")\n",
    "print('accuracy %s' % accuracy_score(y_pred, y_test))\n",
    "print(classification_report(y_test, y_pred,target_names=Types_List))\n",
    "print(confusion_matrix(y_test, y_pred))\n",
    "print(\"###############################################################\\n\\n\")\n",
    "###############################################################"
   ]
  },
  {
   "cell_type": "code",
   "execution_count": 23,
   "metadata": {},
   "outputs": [
    {
     "name": "stdout",
     "output_type": "stream",
     "text": [
      "############### Decision Tree ###############\n",
      "Accuracy score (training): 0.998\n",
      "Accuracy score (validation): 0.823\n",
      "accuracy 0.8230088495575221\n",
      "              precision    recall  f1-score   support\n",
      "\n",
      "         O&M       0.76      0.73      0.74       185\n",
      "      Design       0.83      0.89      0.86       413\n",
      "Construction       0.88      0.76      0.82       193\n",
      "\n",
      "   micro avg       0.82      0.82      0.82       791\n",
      "   macro avg       0.82      0.79      0.81       791\n",
      "weighted avg       0.82      0.82      0.82       791\n",
      "\n",
      "[[135  41   9]\n",
      " [ 33 369  11]\n",
      " [ 10  36 147]]\n",
      "#############################################################\n",
      "\n",
      "\n"
     ]
    }
   ],
   "source": [
    "######################################## Decision Tree ########################################\n",
    "dt = Pipeline([('vect', CountVectorizer()),('clf', tree.DecisionTreeClassifier())])\n",
    "#dt = Pipeline([('vect', CountVectorizer()),('tfidf', TfidfTransformer()),('clf', tree.DecisionTreeClassifier())])\n",
    "dt.fit(X_train, y_train)\n",
    "y_pred = dt.predict(X_test)\n",
    "\n",
    "print(\"############### Decision Tree ###############\")\n",
    "print(\"Accuracy score (training): {0:.3f}\".format(dt.score(X_train, y_train)))\n",
    "print(\"Accuracy score (validation): {0:.3f}\".format(dt.score(X_test, y_test)))\n",
    "print('accuracy %s' % accuracy_score(y_pred, y_test))\n",
    "print(classification_report(y_test, y_pred,target_names=Types_List))\n",
    "print(confusion_matrix(y_test, y_pred))\n",
    "print(\"#############################################################\\n\\n\")\n",
    "#############################################################"
   ]
  },
  {
   "cell_type": "code",
   "execution_count": 24,
   "metadata": {},
   "outputs": [
    {
     "name": "stdout",
     "output_type": "stream",
     "text": [
      "############### KNeighborsClassifier ###############\n",
      "accuracy 0.8508217446270544\n",
      "              precision    recall  f1-score   support\n",
      "\n",
      "         O&M       0.71      0.81      0.76       185\n",
      "      Design       0.89      0.88      0.89       413\n",
      "Construction       0.91      0.82      0.87       193\n",
      "\n",
      "   micro avg       0.85      0.85      0.85       791\n",
      "   macro avg       0.84      0.84      0.84       791\n",
      "weighted avg       0.86      0.85      0.85       791\n",
      "\n",
      "[[149  29   7]\n",
      " [ 40 365   8]\n",
      " [ 20  14 159]]\n",
      "#############################################################\n",
      "\n",
      "\n"
     ]
    }
   ],
   "source": [
    "###############################KNeighborsClassifier####################################\n",
    "from sklearn.neighbors import KNeighborsClassifier\n",
    "############### KNeighborsClassifier ###############\n",
    "knn = Pipeline([('vect', CountVectorizer()),('tfidf', TfidfTransformer()),('clf', KNeighborsClassifier(n_neighbors=5))])\n",
    "knn.fit(X_train, y_train)\n",
    "y_pred = knn.predict(X_test)\n",
    "\n",
    "print(\"############### KNeighborsClassifier ###############\")\n",
    "print('accuracy %s' % accuracy_score(y_pred, y_test))\n",
    "print(classification_report(y_test, y_pred,target_names=Types_List))\n",
    "print(confusion_matrix(y_test, y_pred))\n",
    "print(\"#############################################################\\n\\n\")\n",
    "#################################################################################"
   ]
  },
  {
   "cell_type": "code",
   "execution_count": 25,
   "metadata": {},
   "outputs": [
    {
     "name": "stdout",
     "output_type": "stream",
     "text": [
      "Accuracy score (training): 0.998\n",
      "Accuracy score (validation): 0.870\n",
      "accuracy 0.8697850821744627\n",
      "Confusion Matrix:\n",
      "[[145  36   4]\n",
      " [ 21 389   3]\n",
      " [  9  30 154]]\n",
      "\n",
      "Classification Report\n",
      "              precision    recall  f1-score   support\n",
      "\n",
      "Construction       0.83      0.78      0.81       185\n",
      "      Design       0.85      0.94      0.90       413\n",
      "         O&M       0.96      0.80      0.87       193\n",
      "\n",
      "   micro avg       0.87      0.87      0.87       791\n",
      "   macro avg       0.88      0.84      0.86       791\n",
      "weighted avg       0.87      0.87      0.87       791\n",
      "\n"
     ]
    }
   ],
   "source": [
    "####################RandomForestClassifier#########################################\n",
    "from sklearn.ensemble import RandomForestClassifier\n",
    "rf = Pipeline([('vect', CountVectorizer()),('clf', RandomForestClassifier(n_estimators=1500, max_depth=None, min_samples_split=2, random_state=0))])\n",
    "#rf = Pipeline([('vect', CountVectorizer()),('tfidf', TfidfTransformer()),('clf', RandomForestClassifier(n_estimators=1500, max_depth=None, min_samples_split=2, random_state=0))])\n",
    "rf.fit(X_train, y_train)\n",
    "predictions = rf.predict(X_test)\n",
    "print(\"Accuracy score (training): {0:.3f}\".format(rf.score(X_train, y_train)))\n",
    "print(\"Accuracy score (validation): {0:.3f}\".format(rf.score(X_test, y_test)))\n",
    "print('accuracy %s' % accuracy_score(predictions, y_test))\n",
    "print(\"Confusion Matrix:\")\n",
    "print(confusion_matrix(y_test, predictions))\n",
    "print()\n",
    "print(\"Classification Report\")\n",
    "print(classification_report(y_test, predictions))\n",
    "####################################################################################"
   ]
  },
  {
   "cell_type": "code",
   "execution_count": 26,
   "metadata": {},
   "outputs": [
    {
     "name": "stdout",
     "output_type": "stream",
     "text": [
      "Accuracy score (training): 0.998\n",
      "Accuracy score (validation): 0.841\n",
      "accuracy 0.8407079646017699\n",
      "Confusion Matrix:\n",
      "[[137  37  11]\n",
      " [ 27 376  10]\n",
      " [  7  34 152]]\n",
      "\n",
      "Classification Report\n",
      "              precision    recall  f1-score   support\n",
      "\n",
      "Construction       0.80      0.74      0.77       185\n",
      "      Design       0.84      0.91      0.87       413\n",
      "         O&M       0.88      0.79      0.83       193\n",
      "\n",
      "   micro avg       0.84      0.84      0.84       791\n",
      "   macro avg       0.84      0.81      0.82       791\n",
      "weighted avg       0.84      0.84      0.84       791\n",
      "\n"
     ]
    }
   ],
   "source": [
    "#############################BaggingClassifier##############################################\n",
    "from sklearn import model_selection\n",
    "from sklearn.ensemble import BaggingClassifier\n",
    "from sklearn.tree import DecisionTreeClassifier\n",
    "kfold = model_selection.KFold(n_splits=10, random_state=7)\n",
    "cart = DecisionTreeClassifier()\n",
    "num_trees = 100\n",
    "bagging = Pipeline([('vect', CountVectorizer()),('clf', BaggingClassifier(base_estimator=cart, n_estimators=num_trees, random_state=7))])\n",
    "#bagging = Pipeline([('vect', CountVectorizer()),('tfidf', TfidfTransformer()),('clf', BaggingClassifier(base_estimator=cart, n_estimators=num_trees, random_state=7))])\n",
    "eclf = bagging.fit(X_train, y_train)\n",
    "predictions = eclf.predict(X_test)\n",
    "print(\"Accuracy score (training): {0:.3f}\".format(eclf.score(X_train, y_train)))\n",
    "print(\"Accuracy score (validation): {0:.3f}\".format(eclf.score(X_test, y_test)))\n",
    "print('accuracy %s' % accuracy_score(predictions, y_test))\n",
    "print(\"Confusion Matrix:\")\n",
    "print(confusion_matrix(y_test, predictions))\n",
    "print()\n",
    "print(\"Classification Report\")\n",
    "print(classification_report(y_test, predictions))\n",
    "##############################################################################################"
   ]
  },
  {
   "cell_type": "code",
   "execution_count": 27,
   "metadata": {},
   "outputs": [
    {
     "name": "stdout",
     "output_type": "stream",
     "text": [
      "Accuracy score (training): 0.962\n",
      "Accuracy score (validation): 0.875\n",
      "accuracy 0.8748419721871049\n",
      "Confusion Matrix:\n",
      "[[153  26   6]\n",
      " [ 29 379   5]\n",
      " [  7  26 160]]\n",
      "\n",
      "Classification Report\n",
      "              precision    recall  f1-score   support\n",
      "\n",
      "Construction       0.81      0.83      0.82       185\n",
      "      Design       0.88      0.92      0.90       413\n",
      "         O&M       0.94      0.83      0.88       193\n",
      "\n",
      "   micro avg       0.87      0.87      0.87       791\n",
      "   macro avg       0.87      0.86      0.87       791\n",
      "weighted avg       0.88      0.87      0.87       791\n",
      "\n"
     ]
    }
   ],
   "source": [
    "###################################XGBOOST#########################################\n",
    "from xgboost import XGBClassifier\n",
    "from sklearn.metrics import classification_report, confusion_matrix\n",
    "from sklearn import metrics\n",
    "# Create adaboost classifer object\n",
    "abc = Pipeline([('vect', CountVectorizer()),('clf', XGBClassifier(objective ='reg:linear', colsample_bytree = 0.3, learning_rate = 0.5, max_depth = 5, alpha = 10, n_estimators = 50))])\n",
    "#abc = Pipeline([('vect', CountVectorizer()),('tfidf', TfidfTransformer()),('clf', XGBClassifier(objective ='reg:linear', colsample_bytree = 0.3, learning_rate = 0.1, max_depth = 5, alpha = 10, n_estimators = 500))])\n",
    "# Train XGboost Classifer\n",
    "model = abc.fit(X_train, y_train)\n",
    "\n",
    "#Predict the response for test dataset\n",
    "y_pred = model.predict(X_test)\n",
    "print(\"Accuracy score (training): {0:.3f}\".format(abc.score(X_train, y_train)))\n",
    "print(\"Accuracy score (validation): {0:.3f}\".format(abc.score(X_test, y_test)))\n",
    "print('accuracy %s' % accuracy_score(y_test, y_pred))\n",
    "print(\"Confusion Matrix:\")\n",
    "print(confusion_matrix(y_test, y_pred))\n",
    "print()\n",
    "print(\"Classification Report\")\n",
    "print(classification_report(y_test, y_pred))\n",
    "######################################################################################"
   ]
  },
  {
   "cell_type": "code",
   "execution_count": 31,
   "metadata": {},
   "outputs": [
    {
     "name": "stdout",
     "output_type": "stream",
     "text": [
      "Train on 1658 samples, validate on 185 samples\n",
      "Epoch 1/6\n",
      "1658/1658 [==============================] - ETA: 6s - loss: 1.1052 - acc: 0.414 - ETA: 1s - loss: 1.0496 - acc: 0.490 - ETA: 0s - loss: 1.0005 - acc: 0.517 - ETA: 0s - loss: 0.9423 - acc: 0.560 - ETA: 0s - loss: 0.8934 - acc: 0.592 - 1s 377us/step - loss: 0.8615 - acc: 0.6092 - val_loss: 0.6560 - val_acc: 0.7243\n",
      "Epoch 2/6\n",
      "1658/1658 [==============================] - ETA: 0s - loss: 0.6708 - acc: 0.785 - ETA: 0s - loss: 0.5755 - acc: 0.819 - ETA: 0s - loss: 0.5485 - acc: 0.829 - ETA: 0s - loss: 0.5163 - acc: 0.841 - ETA: 0s - loss: 0.5021 - acc: 0.847 - 0s 180us/step - loss: 0.4874 - acc: 0.8480 - val_loss: 0.4610 - val_acc: 0.8108\n",
      "Epoch 3/6\n",
      "1658/1658 [==============================] - ETA: 0s - loss: 0.3314 - acc: 0.885 - ETA: 0s - loss: 0.3514 - acc: 0.885 - ETA: 0s - loss: 0.3369 - acc: 0.893 - ETA: 0s - loss: 0.3235 - acc: 0.900 - ETA: 0s - loss: 0.3202 - acc: 0.901 - 0s 168us/step - loss: 0.3190 - acc: 0.9017 - val_loss: 0.3902 - val_acc: 0.8270\n",
      "Epoch 4/6\n",
      "1658/1658 [==============================] - ETA: 0s - loss: 0.3399 - acc: 0.885 - ETA: 0s - loss: 0.2829 - acc: 0.922 - ETA: 0s - loss: 0.2432 - acc: 0.934 - ETA: 0s - loss: 0.2481 - acc: 0.931 - ETA: 0s - loss: 0.2402 - acc: 0.930 - 0s 172us/step - loss: 0.2349 - acc: 0.9337 - val_loss: 0.3590 - val_acc: 0.8486\n",
      "Epoch 5/6\n",
      "1658/1658 [==============================] - ETA: 0s - loss: 0.1601 - acc: 0.971 - ETA: 0s - loss: 0.1676 - acc: 0.971 - ETA: 0s - loss: 0.1822 - acc: 0.958 - ETA: 0s - loss: 0.1726 - acc: 0.957 - ETA: 0s - loss: 0.1800 - acc: 0.950 - 0s 164us/step - loss: 0.1806 - acc: 0.9487 - val_loss: 0.3552 - val_acc: 0.8432\n",
      "Epoch 6/6\n",
      "1658/1658 [==============================] - ETA: 0s - loss: 0.1473 - acc: 0.942 - ETA: 0s - loss: 0.1355 - acc: 0.968 - ETA: 0s - loss: 0.1462 - acc: 0.962 - ETA: 0s - loss: 0.1451 - acc: 0.961 - ETA: 0s - loss: 0.1441 - acc: 0.959 - 0s 185us/step - loss: 0.1422 - acc: 0.9614 - val_loss: 0.3500 - val_acc: 0.8378\n",
      "791/791 [==============================] - ETA:  - 0s 35us/step\n",
      "Test accuracy: 0.8887484131661136\n",
      "791/791 [==============================] - ETA:  - ETA:  - 0s 90us/step\n",
      "Test set\n",
      "  Loss: 0.288\n",
      "  Accuracy: 0.889\n",
      "              precision    recall  f1-score   support\n",
      "\n",
      "      Design       0.82      0.89      0.85       200\n",
      "Construction       0.91      0.90      0.91       389\n",
      "         O&M       0.92      0.87      0.89       202\n",
      "\n",
      "   micro avg       0.89      0.89      0.89       791\n",
      "   macro avg       0.88      0.89      0.88       791\n",
      "weighted avg       0.89      0.89      0.89       791\n",
      "\n",
      "[[178  15   7]\n",
      " [ 31 349   9]\n",
      " [  8  18 176]]\n"
     ]
    },
    {
     "data": {
      "image/png": "[encoded data removed]",
      "text/plain": [
       "<Figure size 432x288 with 1 Axes>"
      ]
     },
     "metadata": {
      "needs_background": "light"
     },
     "output_type": "display_data"
    }
   ],
   "source": [
    "#######################################Feedforward Neural Network###################################\n",
    "daf= {'post':Dataset['Requirement'],'tags':Dataset['Type']}\n",
    "df = pd.DataFrame(daf)\n",
    "my_tags = ['O&M','Design','Construction']\n",
    "df = df[pd.notnull(df['tags'])]\n",
    "# print(df.head(10))\n",
    "# print(df['post'].apply(lambda x: len(x.split(' '))).sum())\n",
    "df = shuffle(df)\n",
    "df = shuffle(df)\n",
    "df = shuffle(df)\n",
    "\n",
    "max_words = 1000\n",
    "batch_size = 70\n",
    "epochs = 6\n",
    "\n",
    "train_posts, test_posts, train_tags,  test_tags = train_test_split(df['post'], df['tags'], test_size=0.3, random_state=40)\n",
    "\n",
    "#train_size = int(len(df) * .75)\n",
    "#train_posts = df['post'][:train_size]\n",
    "#train_tags = df['tags'][:train_size]\n",
    "#\n",
    "#test_posts = df['post'][train_size:]\n",
    "#test_tags = df['tags'][train_size:]\n",
    "\n",
    "tokenize = text.Tokenizer(num_words=max_words, char_level=False)\n",
    "tokenize.fit_on_texts(train_posts) # only fit on train\n",
    "\n",
    "x_train = tokenize.texts_to_matrix(train_posts)\n",
    "x_test = tokenize.texts_to_matrix(test_posts)\n",
    "\n",
    "encoder = LabelEncoder()\n",
    "encoder.fit(train_tags)\n",
    "y_train = encoder.transform(train_tags)\n",
    "y_test = encoder.transform(test_tags)\n",
    "\n",
    "num_classes = np.max(y_train) + 1\n",
    "y_train = utils.to_categorical(y_train, num_classes)\n",
    "y_test = utils.to_categorical(y_test, num_classes)\n",
    "\n",
    "\n",
    "\n",
    "# Build the model\n",
    "model = Sequential()\n",
    "model.add(Dense(512, input_shape=(max_words,)))\n",
    "model.add(Activation('relu'))\n",
    "model.add(Dropout(0.5))\n",
    "model.add(Dense(num_classes))\n",
    "model.add(Activation('softmax'))\n",
    "\n",
    "model.compile(loss='categorical_crossentropy',\n",
    "              optimizer='adam',\n",
    "              metrics=['accuracy'])\n",
    "              \n",
    "history = model.fit(x_train, y_train,\n",
    "                    batch_size=batch_size,\n",
    "                    epochs=epochs,\n",
    "                    verbose=1,\n",
    "                    validation_split=0.1)\n",
    "\n",
    "\n",
    "score = model.evaluate(x_test, y_test,\n",
    "                       batch_size=batch_size, verbose=1)\n",
    "print('Test accuracy:', score[1])\n",
    "\n",
    "Types_List = ['Design','Construction','O&M']\n",
    "accr = model.evaluate(x_test,y_test)\n",
    "#np.argmax(y_pred, axis=1)\n",
    "print('Test set\\n  Loss: {:0.3f}\\n  Accuracy: {:0.3f}'.format(accr[0],accr[1]))\n",
    "y_pred = model.predict(x_test)\n",
    "print(classification_report(np.argmax(y_test, axis=1), np.argmax(y_pred, axis=1),target_names=Types_List))\n",
    "print(confusion_matrix(np.argmax(y_test, axis=1), np.argmax(y_pred, axis=1)))\n",
    "\n",
    "plt.title('Accuracy')\n",
    "plt.plot(history.history['acc'], label='train')\n",
    "plt.plot(history.history['val_acc'], label='test')\n",
    "plt.legend()\n",
    "plt.show();\n"
   ]
  },
  {
   "cell_type": "code",
   "execution_count": 29,
   "metadata": {},
   "outputs": [
    {
     "name": "stdout",
     "output_type": "stream",
     "text": [
      "25.59329390525818\n"
     ]
    }
   ],
   "source": [
    "end = time.time()\n",
    "print(end - start)"
   ]
  },
  {
   "cell_type": "code",
   "execution_count": 30,
   "metadata": {},
   "outputs": [
    {
     "name": "stdout",
     "output_type": "stream",
     "text": [
      "DT Accuracy Score ->  81.16308470290771\n",
      "              precision    recall  f1-score   support\n",
      "\n",
      "      Design       0.71      0.71      0.71       185\n",
      "Construction       0.83      0.88      0.85       413\n",
      "         O&M       0.88      0.77      0.82       193\n",
      "\n",
      "   micro avg       0.81      0.81      0.81       791\n",
      "   macro avg       0.81      0.78      0.79       791\n",
      "weighted avg       0.81      0.81      0.81       791\n",
      "\n",
      "[[131  45   9]\n",
      " [ 39 363  11]\n",
      " [ 15  30 148]]\n"
     ]
    }
   ],
   "source": [
    "#################################For N-gram Based Text Classification##############################\n",
    "\n",
    "from sklearn import model_selection\n",
    "my_types = ['Design','Construction','O&M']\n",
    "   \n",
    "X_train, X_test, y_train, y_test = model_selection.train_test_split(Dataset['Requirement'],Dataset['Type'],test_size=0.3, random_state=49)\n",
    "      \n",
    "tfidf_vect_ngram = TfidfVectorizer(analyzer='word', token_pattern=r'\\w{1,}', ngram_range=(1,1), max_features=5000)\n",
    "tfidf_vect_ngram.fit(Dataset['Requirement'])\n",
    "X_train_Tfidf =  tfidf_vect_ngram.transform(X_train)\n",
    "X_test_Tfidf =  tfidf_vect_ngram.transform(X_test)\n",
    "\n",
    "# Classifier - Algorithm - SVM\n",
    "# fit the training dataset on the classifier\n",
    "model = tree.DecisionTreeClassifier()\n",
    "model.fit(X_train_Tfidf,y_train)\n",
    "# predict the labels on validation dataset\n",
    "predictions_DT = model.predict(X_test_Tfidf)\n",
    "\n",
    "# Use accuracy_score function to get the accuracy\n",
    "print(\"DT Accuracy Score -> \",accuracy_score(predictions_DT, y_test)*100)\n",
    "print(classification_report(y_test, predictions_DT,target_names=my_types))\n",
    "print(confusion_matrix(y_test, predictions_DT))"
   ]
  },
  {
   "cell_type": "code",
   "execution_count": null,
   "metadata": {},
   "outputs": [],
   "source": []
  }
 ],
 "metadata": {
  "kernelspec": {
   "display_name": "Python 3",
   "language": "python",
   "name": "python3"
  },
  "language_info": {
   "codemirror_mode": {
    "name": "ipython",
    "version": 3
   },
   "file_extension": ".py",
   "mimetype": "text/x-python",
   "name": "python",
   "nbconvert_exporter": "python",
   "pygments_lexer": "ipython3",
   "version": "3.7.1"
  }
 },
 "nbformat": 4,
 "nbformat_minor": 2
}
