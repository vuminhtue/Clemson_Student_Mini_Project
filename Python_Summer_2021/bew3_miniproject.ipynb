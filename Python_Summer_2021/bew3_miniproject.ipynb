{
 "cells": [
  {
   "cell_type": "code",
   "execution_count": 18,
   "metadata": {},
   "outputs": [],
   "source": [
    "import pandas as pd\n",
    "import numpy as np\n",
    "from sklearn.impute import KNNImputer\n",
    "from sklearn.model_selection import train_test_split\n",
    "from sklearn import metrics\n",
    "data_df_mag_1 = pd.DataFrame(pd.read_csv('mag_flux_5714_1.csv', header=None))\n",
    "#data_df_mag_2 = pd.DataFrame(pd.read_csv('mag_flux_5714_1_1.csv', header=None))\n",
    "data_df_stress_1 = pd.DataFrame(pd.read_csv('normal_load_5714_1.csv', header=None))\n",
    "#data_df_stress_2 = pd.DataFrame(pd.read_csv('normal_load_5714_1_1.csv', header=None))"
   ]
  },
  {
   "cell_type": "code",
   "execution_count": 19,
   "metadata": {},
   "outputs": [],
   "source": [
    "data_df_mag_1.columns = ['flux1']\n",
    "#data_df_mag_2.columns = ['flux2']\n",
    "data_df_stress_1.columns = ['stress1']\n",
    "#data_df_stress_2.columns = ['stress2']\n",
    "result = data_df_mag_1.join(data_df_stress_1, how=\"outer\")"
   ]
  },
  {
   "cell_type": "code",
   "execution_count": 20,
   "metadata": {},
   "outputs": [],
   "source": [
    "imputer = KNNImputer(n_neighbors=2, weights=\"uniform\")\n",
    "data_knnimpute = pd.DataFrame(imputer.fit_transform(result))\n",
    "data_knnimpute.columns = result.columns\n",
    "\n",
    "X_train, X_test, y_train, y_test = train_test_split(data_knnimpute['flux1'],\n",
    "                                                    data_knnimpute['stress1'],\n",
    "                                                    train_size=0.6,random_state=123)"
   ]
  },
  {
   "cell_type": "code",
   "execution_count": 21,
   "metadata": {},
   "outputs": [],
   "source": [
    "from sklearn.linear_model import LinearRegression\n",
    "model_linreg = LinearRegression().fit(X_train[:,None],y_train)"
   ]
  },
  {
   "cell_type": "code",
   "execution_count": 22,
   "metadata": {},
   "outputs": [
    {
     "data": {
      "text/plain": [
       "2.4595221507725493"
      ]
     },
     "execution_count": 22,
     "metadata": {},
     "output_type": "execute_result"
    }
   ],
   "source": [
    "y_pred = model_linreg.predict(X_test[:,None])\n",
    "metrics.r2_score(y_test,y_pred) # R^2\n",
    "metrics.mean_squared_error(y_test,y_pred,squared=False) #RMSE"
   ]
  },
  {
   "cell_type": "code",
   "execution_count": null,
   "metadata": {},
   "outputs": [],
   "source": []
  }
 ],
 "metadata": {
  "kernelspec": {
   "display_name": "ML_SKLN",
   "language": "python",
   "name": "skln"
  },
  "language_info": {
   "codemirror_mode": {
    "name": "ipython",
    "version": 3
   },
   "file_extension": ".py",
   "mimetype": "text/x-python",
   "name": "python",
   "nbconvert_exporter": "python",
   "pygments_lexer": "ipython3",
   "version": "3.8.3"
  }
 },
 "nbformat": 4,
 "nbformat_minor": 4
}
