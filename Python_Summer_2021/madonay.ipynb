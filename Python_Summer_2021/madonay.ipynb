{
 "cells": [
  {
   "cell_type": "markdown",
   "metadata": {},
   "source": [
    "### __Title__: Introduction to Machine Learning (ML) using Python __[Mini-Project](https://clemsonciti.github.io/Workshop-Python-ML/15-Mini-Project/index.html)__\n",
    "\n",
    "&nbsp;\n",
    "\n",
    "##### __Purpose__: To evaluate the ability of the user (`madonay`) working on a sample data science project from scratch\n",
    "##### __Date__: 20210629\n",
    "##### __Author__: Maria E. Adonay (`madonay`)\n",
    "\n",
    "&nbsp;\n",
    "\n",
    "##### __Note__: The project is about Supervised ML only and involves the following:\n",
    "\n",
    "&nbsp;\n",
    "\n",
    "> #####       - Downloading data\n",
    "> #####       - Cleaning data\n",
    "> #####       - Splitting data into training / testing\n",
    "> #####       - Applying a machine learning model\n",
    "> #####       - Analyzing the output\n",
    "\n",
    "&nbsp;\n",
    "\n",
    "##### __Data__: The __[Titanic data](https://github.com/clemsonciti/Workshop-Python-ML/tree/master/data/Titanic_data)__ will be used for this project. The columns may be summarized as follows:\n",
    "\n",
    "&nbsp;\n",
    "\n",
    "> #####       - Column 1: `PassengerId` - ID number\n",
    "> #####       - Column 2: `Survived` - Indication of survival (0: No; 1: Yes)\n",
    "> #####       - Column 3: `Pclass` - Ticket class (1: 1st; 2: 2nd; 3: 3rd)\n",
    "> #####       - Column 4: `Name` - Name\n",
    "> #####       - Column 5: `Sex` - Sex (male, female)\n",
    "> #####       - Column 6: `Age` - Age (years)\n",
    "> #####       - Column 7: `SibSp` - Number of siblings / spouses aboard\n",
    "> #####       - Column 8: `Parch` - Number of parents / children aboard\n",
    "> #####       - Column 9: `Ticket` - Ticket number\n",
    "> #####       - Column 10: `Fare` - Price for transport\n",
    "> #####       - Column 11: `Cabin` - Cabin number\n",
    "> #####       - Column 12: `Embarked` - Port of initial boarding (C: Cherbourg; Q: Queenstown; S: Southampton)\n",
    "\n",
    "&nbsp;\n",
    "\n",
    "##### _Source_: __[Department of Biostatistics at Vanderbilt University](https://biostat.app.vumc.org/wiki/pub/Main/DataSets/titanic.html)__ via __[Clemson CITI](http://citi.sites.clemson.edu/)__ __[Titanic_data GitHub Repository](https://github.com/clemsonciti/Workshop-Python-ML/tree/master/data/Titanic_data)__\n",
    "##### _Predictors_: `Pclass`, `Age`, `SibSp`, `Parch`\n",
    "##### _Predictand_: `Survived`\n",
    "##### _ML Model Output Type_: (Random Forest) Classification\n",
    "\n",
    "&nbsp;\n",
    "\n",
    "##### For more information: __https://biostat.app.vumc.org/wiki/pub/Main/DataSets/titanic3info.txt__\n",
    "\n",
    "&nbsp;\n",
    "\n",
    "***\n",
    "\n",
    "&nbsp;"
   ]
  },
  {
   "cell_type": "code",
   "execution_count": 1,
   "metadata": {},
   "outputs": [],
   "source": [
    "# 0/8: Import libraries\n",
    "\n",
    "import pandas as pd\n",
    "from sklearn.model_selection import train_test_split\n",
    "from sklearn.ensemble import RandomForestClassifier\n",
    "from sklearn import metrics"
   ]
  },
  {
   "cell_type": "code",
   "execution_count": 2,
   "metadata": {},
   "outputs": [],
   "source": [
    "# 1/8: Read in the data\n",
    "\n",
    "url_train = 'https://raw.githubusercontent.com/clemsonciti/Workshop-Python-ML/master/data/Titanic_data/train.csv'\n",
    "train = pd.DataFrame(pd.read_csv(url_train))\n",
    "\n",
    "#train.head()"
   ]
  },
  {
   "cell_type": "markdown",
   "metadata": {},
   "source": [
    "Note: We are treating the `train` dataset as the \"entire\" dataset because it incorporates the `Survived` column and allows for practicing splitting data into \"test\" and \"train\" in Part 3/8, below."
   ]
  },
  {
   "cell_type": "code",
   "execution_count": 3,
   "metadata": {},
   "outputs": [],
   "source": [
    "# 2/8: Clean and standardize the input data\n",
    "\n",
    "data = train.drop(labels = [\"PassengerId\"], axis=1)\n",
    "data = data.drop(labels = [\"Name\"], axis=1)\n",
    "data = data.drop(labels = [\"Sex\"], axis=1)\n",
    "data = data.drop(labels = [\"Ticket\"], axis=1)\n",
    "data = data.drop(labels = [\"Fare\"], axis=1)\n",
    "data = data.drop(labels = [\"Cabin\"], axis=1)\n",
    "data = data.drop(labels = [\"Embarked\"], axis=1)\n",
    "\n",
    "nan_value = \"NaN\"\n",
    "data.replace(\"\", nan_value, inplace=True)\n",
    "data = data.dropna()\n",
    "\n",
    "#print(data.count())\n",
    "#print(data.head())"
   ]
  },
  {
   "cell_type": "code",
   "execution_count": 4,
   "metadata": {},
   "outputs": [],
   "source": [
    "# 3/8: Split data into training / testing\n",
    "\n",
    "data_train, data_test = train_test_split(data, train_size=0.6, random_state=123)\n",
    "\n",
    "X = data_train.drop(['Survived'], axis=1).values\n",
    "y = data_train['Survived'].values\n",
    "\n",
    "X_train, X_test, y_train, y_test = train_test_split(X, y, train_size=0.6, random_state=123)\n",
    "\n",
    "#print(data.shape)\n",
    "#print(data_train.shape)\n",
    "#print(data_test.shape)\n",
    "\n",
    "#print(X_train.shape)\n",
    "#print(X_test.shape)\n",
    "#print(y_train.shape)\n",
    "#print(y_test.shape)"
   ]
  },
  {
   "cell_type": "code",
   "execution_count": 5,
   "metadata": {},
   "outputs": [],
   "source": [
    "# 4/8: Perform regularization\n",
    "# Not necessary"
   ]
  },
  {
   "cell_type": "code",
   "execution_count": 6,
   "metadata": {},
   "outputs": [],
   "source": [
    "# 5/8: Construct ML model to the training set and explain why the algorithm should be used\n",
    "\n",
    "model_RF = RandomForestClassifier(n_estimators=20, criterion=\"gini\").fit(X_train, y_train)"
   ]
  },
  {
   "cell_type": "markdown",
   "metadata": {},
   "source": [
    "Since the Random Forest method combines the results of building multiple decision trees by merging them together, it is able to achieve more accurate predictions. This is why the Random Forest method is a good choice among the Supervised Machine Learning methods."
   ]
  },
  {
   "cell_type": "code",
   "execution_count": 7,
   "metadata": {},
   "outputs": [],
   "source": [
    "# 6/8: Apply ML model to predict the output from the testing set\n",
    "\n",
    "y_pred_RF = model_RF.predict(X_test)"
   ]
  },
  {
   "cell_type": "code",
   "execution_count": 8,
   "metadata": {},
   "outputs": [
    {
     "data": {
      "text/plain": [
       "0.6395348837209303"
      ]
     },
     "execution_count": 8,
     "metadata": {},
     "output_type": "execute_result"
    }
   ],
   "source": [
    "# 7/8: Evaluate the output using a method from \"Chapter 4\"\n",
    "\n",
    "metrics.accuracy_score(y_test, y_pred_RF)"
   ]
  },
  {
   "cell_type": "markdown",
   "metadata": {},
   "source": [
    "##### 8/8: Assess whether the ML model is good or bad\n",
    "\n",
    "   This implementation of the Random Forest method does not perform very well, as seen by the above \"accuracy score\". This is likely due to the smaller training set (due to initial restrictions, the filtering due to missing data, and user-determined exclusion of some data columns). The accuracy of this model could likely be improved by incorporating more data with more variety. However, this would likely require more upfront processing of the data so that the data columns were interpretable by the model."
   ]
  }
 ],
 "metadata": {
  "kernelspec": {
   "display_name": "ML_SKLN\n",
   "language": "python",
   "name": "skln"
  },
  "language_info": {
   "codemirror_mode": {
    "name": "ipython",
    "version": 3
   },
   "file_extension": ".py",
   "mimetype": "text/x-python",
   "name": "python",
   "nbconvert_exporter": "python",
   "pygments_lexer": "ipython3",
   "version": "3.8.3"
  }
 },
 "nbformat": 4,
 "nbformat_minor": 4
}
