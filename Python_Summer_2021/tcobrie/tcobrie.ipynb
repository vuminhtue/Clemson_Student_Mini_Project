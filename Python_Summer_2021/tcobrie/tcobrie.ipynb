{
 "cells": [
  {
   "cell_type": "code",
   "execution_count": 1,
   "metadata": {},
   "outputs": [],
   "source": [
    "#Clearly state the objective of the mini-project on Supervised Machine Learning"
   ]
  },
  {
   "cell_type": "markdown",
   "metadata": {},
   "source": [
    "The objective of the mini-project on supervised machine learning is to evaluate my ability to work on a sample data science project. This project will evaluate my ability to download a sample data set, clean the data within the data set, split the data into train/test values, and apply one of the machine learning models so that I can analyze the output. The purpose of this mini-project is also to be able to apply the machine learning process that was discussed in the \"Introduction to Machine Learning\" module"
   ]
  },
  {
   "cell_type": "code",
   "execution_count": 2,
   "metadata": {},
   "outputs": [],
   "source": [
    "#Brief explanation about the data that you will be using: source, predictors, predictand"
   ]
  },
  {
   "cell_type": "markdown",
   "metadata": {},
   "source": [
    "The data that I will be using comes from the Toy dataset from scikit learn. The specific data that I will be using is the load_wine data set. For this specific data set there are 13 numeric attributes which are: Alcohol, Malic acid, Ash, Alcalinity of ash, Magnesium, Total phenols, Flavanoids, Nonflavanoid phenols, Proanthocyanins, Color intensity, Hue, OD280/OD315 of diluted wines, and Proline. These are the predictors. The predictands are the type of wine which falls under three different classes (i.e., class 1, class 2, class 3)"
   ]
  },
  {
   "cell_type": "code",
   "execution_count": 3,
   "metadata": {},
   "outputs": [],
   "source": [
    "#Type of ML model output: Continuous or Classification?"
   ]
  },
  {
   "cell_type": "markdown",
   "metadata": {},
   "source": [
    "Classification"
   ]
  },
  {
   "cell_type": "code",
   "execution_count": 4,
   "metadata": {},
   "outputs": [],
   "source": [
    "#Read in the data"
   ]
  },
  {
   "cell_type": "code",
   "execution_count": 5,
   "metadata": {},
   "outputs": [],
   "source": [
    "import numpy as np\n",
    "import pandas as pd\n",
    "from sklearn.datasets import load_wine"
   ]
  },
  {
   "cell_type": "code",
   "execution_count": 6,
   "metadata": {},
   "outputs": [],
   "source": [
    "#Clean & Standardized the input data if needed"
   ]
  },
  {
   "cell_type": "markdown",
   "metadata": {},
   "source": [
    "There is no need to clean and standardize the data set"
   ]
  },
  {
   "cell_type": "code",
   "execution_count": 7,
   "metadata": {},
   "outputs": [],
   "source": [
    "wine = load_wine()\n",
    "#print(wine.data)\n",
    "#print(wine.target) \n",
    "#print(wine.feature_names)\n",
    "#print(wine.target_names)"
   ]
  },
  {
   "cell_type": "code",
   "execution_count": 8,
   "metadata": {},
   "outputs": [],
   "source": [
    "#Split data to training/testing"
   ]
  },
  {
   "cell_type": "code",
   "execution_count": 9,
   "metadata": {},
   "outputs": [],
   "source": [
    "from sklearn.model_selection import train_test_split\n",
    "X = wine.data\n",
    "y = wine.target\n",
    "X_train, X_test, y_train, y_test = train_test_split(X,y,train_size=0.6,random_state=123)"
   ]
  },
  {
   "cell_type": "markdown",
   "metadata": {},
   "source": [
    "For this dataset we will not be using any regularization (variable selection) or PCA"
   ]
  },
  {
   "cell_type": "code",
   "execution_count": 10,
   "metadata": {},
   "outputs": [],
   "source": [
    "#Construct Machine Learning model to training set and explain why do you want to use that algorithm"
   ]
  },
  {
   "cell_type": "code",
   "execution_count": 11,
   "metadata": {},
   "outputs": [],
   "source": [
    "from sklearn.tree import DecisionTreeClassifier \n",
    "model_DT = DecisionTreeClassifier(max_depth=3,criterion=\"gini\").fit(X_train,y_train)"
   ]
  },
  {
   "cell_type": "markdown",
   "metadata": {},
   "source": [
    "Here we are using the decision tree model which is a sub-model of the tree-based model. With this model we are using the splitting algorithm with gini impurity because it is good for categorical datasets"
   ]
  },
  {
   "cell_type": "code",
   "execution_count": 12,
   "metadata": {},
   "outputs": [],
   "source": [
    "#Apply Machine Learning model to predict the output from testing set"
   ]
  },
  {
   "cell_type": "code",
   "execution_count": 13,
   "metadata": {
    "collapsed": true,
    "jupyter": {
     "outputs_hidden": true
    }
   },
   "outputs": [
    {
     "data": {
      "text/plain": [
       "[Text(167.4, 190.26, 'X[12] <= 755.0\\ngini = 0.643\\nsamples = 106\\nvalue = [35, 47, 24]'),\n",
       " Text(83.7, 135.9, 'X[9] <= 4.85\\ngini = 0.454\\nsamples = 66\\nvalue = [1, 44, 21]'),\n",
       " Text(41.85, 81.53999999999999, 'X[6] <= 0.745\\ngini = 0.088\\nsamples = 44\\nvalue = [1, 42, 1]'),\n",
       " Text(20.925, 27.180000000000007, 'gini = 0.0\\nsamples = 1\\nvalue = [0, 0, 1]'),\n",
       " Text(62.775000000000006, 27.180000000000007, 'gini = 0.045\\nsamples = 43\\nvalue = [1, 42, 0]'),\n",
       " Text(125.55000000000001, 81.53999999999999, 'X[2] <= 2.11\\ngini = 0.165\\nsamples = 22\\nvalue = [0, 2, 20]'),\n",
       " Text(104.625, 27.180000000000007, 'gini = 0.0\\nsamples = 2\\nvalue = [0, 2, 0]'),\n",
       " Text(146.475, 27.180000000000007, 'gini = 0.0\\nsamples = 20\\nvalue = [0, 0, 20]'),\n",
       " Text(251.10000000000002, 135.9, 'X[6] <= 2.165\\ngini = 0.266\\nsamples = 40\\nvalue = [34, 3, 3]'),\n",
       " Text(209.25, 81.53999999999999, 'X[6] <= 0.855\\ngini = 0.48\\nsamples = 5\\nvalue = [0, 2, 3]'),\n",
       " Text(188.32500000000002, 27.180000000000007, 'gini = 0.0\\nsamples = 3\\nvalue = [0, 0, 3]'),\n",
       " Text(230.175, 27.180000000000007, 'gini = 0.0\\nsamples = 2\\nvalue = [0, 2, 0]'),\n",
       " Text(292.95, 81.53999999999999, 'X[9] <= 3.465\\ngini = 0.056\\nsamples = 35\\nvalue = [34, 1, 0]'),\n",
       " Text(272.02500000000003, 27.180000000000007, 'gini = 0.0\\nsamples = 1\\nvalue = [0, 1, 0]'),\n",
       " Text(313.875, 27.180000000000007, 'gini = 0.0\\nsamples = 34\\nvalue = [34, 0, 0]')]"
      ]
     },
     "execution_count": 13,
     "metadata": {},
     "output_type": "execute_result"
    },
    {
     "data": {
      "image/png": "[encoded data removed]",
      "text/plain": [
       "<Figure size 432x288 with 1 Axes>"
      ]
     },
     "metadata": {
      "needs_background": "light"
     },
     "output_type": "display_data"
    }
   ],
   "source": [
    "from sklearn import tree\n",
    "tree.plot_tree(model_DT)"
   ]
  },
  {
   "cell_type": "code",
   "execution_count": 14,
   "metadata": {},
   "outputs": [
    {
     "data": {
      "text/plain": [
       "'wine.pdf'"
      ]
     },
     "execution_count": 14,
     "metadata": {},
     "output_type": "execute_result"
    }
   ],
   "source": [
    "import graphviz\n",
    "dot_data = tree.export_graphviz(model_DT, out_file=None,                      \n",
    "                      filled=True, rounded=True,  \n",
    "                      special_characters=True)  \n",
    "graph = graphviz.Source(dot_data) \n",
    "#graph\n",
    "graph.render(\"wine\") "
   ]
  },
  {
   "cell_type": "code",
   "execution_count": 15,
   "metadata": {},
   "outputs": [],
   "source": [
    "#Evaluate the output using any of the given method in chapter 4"
   ]
  },
  {
   "cell_type": "code",
   "execution_count": 16,
   "metadata": {},
   "outputs": [
    {
     "name": "stdout",
     "output_type": "stream",
     "text": [
      "0.9166666666666666\n"
     ]
    }
   ],
   "source": [
    "from sklearn import metrics\n",
    "y_pred_DT = model_DT.predict(X_test)\n",
    "print(metrics.accuracy_score(y_test,y_pred_DT))"
   ]
  },
  {
   "cell_type": "code",
   "execution_count": 17,
   "metadata": {},
   "outputs": [],
   "source": [
    "#Confirm if your ML model is good or bad?"
   ]
  },
  {
   "cell_type": "markdown",
   "metadata": {},
   "source": [
    "The machine learning (ML) model is good because the accuracy score, which is used to show the fraction of samples predicted correclty, is near 1 (~0.92) which suggests that this model is a good fit for the load_wine data from the Toy dataset"
   ]
  }
 ],
 "metadata": {
  "kernelspec": {
   "display_name": "Python 3",
   "language": "python",
   "name": "python3"
  },
  "language_info": {
   "codemirror_mode": {
    "name": "ipython",
    "version": 3
   },
   "file_extension": ".py",
   "mimetype": "text/x-python",
   "name": "python",
   "nbconvert_exporter": "python",
   "pygments_lexer": "ipython3",
   "version": "3.8.5"
  }
 },
 "nbformat": 4,
 "nbformat_minor": 4
}
